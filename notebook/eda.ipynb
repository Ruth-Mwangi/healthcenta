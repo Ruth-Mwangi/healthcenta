{
 "cells": [
  {
   "cell_type": "markdown",
   "metadata": {},
   "source": [
    "# HealthCenta"
   ]
  },
  {
   "cell_type": "markdown",
   "metadata": {},
   "source": [
    "## Import Libraries"
   ]
  },
  {
   "cell_type": "code",
   "execution_count": null,
   "metadata": {},
   "outputs": [],
   "source": [
    "import matplotlib.pyplot as plt\n",
    "import seaborn as sns\n",
    "\n",
    "import pandas as pd\n",
    "import sys\n",
    "import os\n",
    "\n",
    "# Add the src directory to the Python path\n",
    "sys.path.append(os.path.abspath('../src'))\n",
    "import importlib\n",
    "import utils\n",
    "\n",
    "importlib.reload(utils)\n"
   ]
  },
  {
   "cell_type": "markdown",
   "metadata": {},
   "source": [
    "## Extract Data"
   ]
  },
  {
   "cell_type": "code",
   "execution_count": null,
   "metadata": {},
   "outputs": [],
   "source": [
    "healthcenta_df= pd.read_excel(\"../data/raw/Sample data.xls\")\n",
    "healthcenta_df"
   ]
  },
  {
   "cell_type": "markdown",
   "metadata": {},
   "source": [
    "## Explore Data"
   ]
  },
  {
   "cell_type": "markdown",
   "metadata": {},
   "source": [
    "### Data Stats"
   ]
  },
  {
   "cell_type": "code",
   "execution_count": null,
   "metadata": {},
   "outputs": [],
   "source": [
    "healthcenta_df.describe()"
   ]
  },
  {
   "cell_type": "code",
   "execution_count": null,
   "metadata": {},
   "outputs": [],
   "source": [
    "healthcenta_df.info()"
   ]
  },
  {
   "cell_type": "markdown",
   "metadata": {},
   "source": [
    "### Findings\n",
    "There are 11 columns in the data.\n",
    "#### Missing Data \n",
    "There are a number of columns with missing data: \n",
    "* `SP.1 , SP.2 , SP.3 , SP.4` have 1 missing data\n",
    "* `SERVICE`: Contains more entries than other columns.\n",
    "* `Unnamed: 6`: Entirely empty and should be removed from the dataset.\n",
    "\n",
    "#### Data Cleaning Recommendations\n",
    "- **Remove Unnecessary Columns**: The `Unnamed: 6` column should be removed as it contains no useful information.\n",
    "- **Handle Missing Values**: Address missing values in the `SP.` columns. Options include:\n",
    "  - Imputing missing values with an average or median value.\n",
    "  - Removing rows with missing values if they are insignificant. This is the recomended option as the standard variation is high meaning data varies widely and imputing will not communicate the reality. Also the value is dependent on valious factors such as specialty, category and nature of procedure. \n",
    "- **Validate `SERVICE` Column**: Ensure that the entries in the `SERVICE` column align with expected values and clean any inconsistencies."
   ]
  },
  {
   "cell_type": "markdown",
   "metadata": {},
   "source": [
    "## Clean Data\n"
   ]
  },
  {
   "cell_type": "markdown",
   "metadata": {},
   "source": [
    "### Make data lower case"
   ]
  },
  {
   "cell_type": "code",
   "execution_count": null,
   "metadata": {},
   "outputs": [],
   "source": [
    "healthcenta_df = healthcenta_df.applymap(lambda x: x.lower() if isinstance(x, str) else x)\n"
   ]
  },
  {
   "cell_type": "markdown",
   "metadata": {},
   "source": [
    "### Drop `Unamed: 6` column"
   ]
  },
  {
   "cell_type": "code",
   "execution_count": null,
   "metadata": {},
   "outputs": [],
   "source": [
    "healthcenta_df=utils.drop_columns(healthcenta_df,\"Unnamed: 6\")\n",
    "healthcenta_df"
   ]
  },
  {
   "cell_type": "markdown",
   "metadata": {},
   "source": [
    "### Clean the Service column extract body part to its own column"
   ]
  },
  {
   "cell_type": "code",
   "execution_count": null,
   "metadata": {},
   "outputs": [],
   "source": [
    "healthcenta_df=utils.categorize_body_parts_in_service_column(healthcenta_df)\n",
    "healthcenta_df"
   ]
  },
  {
   "cell_type": "markdown",
   "metadata": {},
   "source": [
    "### Drop rows with missing product index and rows with missing SP.1 to SP.4"
   ]
  },
  {
   "cell_type": "code",
   "execution_count": null,
   "metadata": {},
   "outputs": [],
   "source": [
    "healthcenta_df=utils.drop_rows_by_column(healthcenta_df,\"PRODUCT INDEX\")\n",
    "healthcenta_df=utils.drop_rows_by_column(healthcenta_df,\"SP. 1\")\n",
    "healthcenta_df\n"
   ]
  },
  {
   "cell_type": "markdown",
   "metadata": {},
   "source": [
    "## EDA"
   ]
  },
  {
   "cell_type": "markdown",
   "metadata": {},
   "source": [
    "### Price Distribution:\n",
    "\n"
   ]
  },
  {
   "cell_type": "code",
   "execution_count": 61,
   "metadata": {},
   "outputs": [],
   "source": [
    "price_columns = ['SP. 1', 'SP. 2', 'SP. 3', 'SP. 4']\n"
   ]
  },
  {
   "cell_type": "code",
   "execution_count": null,
   "metadata": {},
   "outputs": [],
   "source": [
    "\n",
    "# Reshape data for better plotting\n",
    "melted_data = healthcenta_df.melt(id_vars=['DEPARTMENT'], value_vars=price_columns, var_name='Service Provider', value_name='Price')\n",
    "\n",
    "plt.figure(figsize=(12, 6))\n",
    "sns.boxplot(x='DEPARTMENT', y='Price', hue='Service Provider', data=melted_data)\n",
    "plt.xticks(rotation=90)\n",
    "plt.title('Price Distribution by DEPARTMENT and Service Provider')\n",
    "plt.xlabel('Department')\n",
    "plt.ylabel('Price')\n",
    "plt.show()\n",
    "melted_data"
   ]
  },
  {
   "cell_type": "markdown",
   "metadata": {},
   "source": [
    "### Service count by category"
   ]
  },
  {
   "cell_type": "code",
   "execution_count": null,
   "metadata": {},
   "outputs": [],
   "source": [
    "category_counts = healthcenta_df['CATEGORY'].value_counts()\n",
    "\n",
    "plt.figure(figsize=(10, 6))\n",
    "sns.barplot(x=category_counts.index, y=category_counts.values)\n",
    "plt.title('Number of Services by Category')\n",
    "plt.xlabel('Category')\n",
    "plt.ylabel('Number of Services')\n",
    "plt.xticks(rotation=45)\n",
    "plt.show()\n"
   ]
  },
  {
   "cell_type": "markdown",
   "metadata": {},
   "source": [
    "### Average Price by Service Provider"
   ]
  },
  {
   "cell_type": "code",
   "execution_count": null,
   "metadata": {},
   "outputs": [],
   "source": [
    "avg_prices = healthcenta_df[price_columns].mean()\n",
    "\n",
    "plt.figure(figsize=(10, 6))\n",
    "sns.barplot(x=avg_prices.index, y=avg_prices.values)\n",
    "plt.title('Average Price by Service Provider')\n",
    "plt.xlabel('Service Provider')\n",
    "plt.ylabel('Average Price')\n",
    "plt.show()\n"
   ]
  },
  {
   "cell_type": "markdown",
   "metadata": {},
   "source": [
    "### Average Prices by Department"
   ]
  },
  {
   "cell_type": "code",
   "execution_count": null,
   "metadata": {},
   "outputs": [],
   "source": [
    "avg_prices_by_dept = healthcenta_df.groupby('DEPARTMENT')[price_columns].mean()\n",
    "\n",
    "avg_prices_by_dept.plot(kind='bar', figsize=(12, 8))\n",
    "plt.title('Average Prices by Department')\n",
    "plt.xlabel('Department')\n",
    "plt.ylabel('Average Price')\n",
    "plt.xticks(rotation=45)\n",
    "plt.show()\n"
   ]
  },
  {
   "cell_type": "markdown",
   "metadata": {},
   "source": [
    "### Average Prices by Specialty"
   ]
  },
  {
   "cell_type": "code",
   "execution_count": null,
   "metadata": {},
   "outputs": [],
   "source": [
    "specialty_prices = healthcenta_df.groupby('SPECIALTY')[price_columns].mean()\n",
    "\n",
    "specialty_prices.plot(kind='bar', figsize=(12, 8))\n",
    "plt.title('Average Prices by Specialty')\n",
    "plt.xlabel('Specialty')\n",
    "plt.ylabel('Average Price')\n",
    "plt.xticks(rotation=45)\n",
    "plt.show()\n"
   ]
  },
  {
   "cell_type": "code",
   "execution_count": 67,
   "metadata": {},
   "outputs": [],
   "source": [
    "melted_data = healthcenta_df.melt(id_vars=['NATURE OF ENT. PROCEDURE', 'CATEGORY', 'SPECIALTY'], \n",
    "                        value_vars=price_columns, \n",
    "                        var_name='Service Provider', \n",
    "                        value_name='Price')\n",
    "\n",
    "\n",
    "\n"
   ]
  },
  {
   "cell_type": "code",
   "execution_count": null,
   "metadata": {},
   "outputs": [],
   "source": [
    "# Calculate average price for each grouping\n",
    "avg_price = melted_data.groupby(['NATURE OF ENT. PROCEDURE', 'CATEGORY', 'SPECIALTY'])['Price'].mean().reset_index()\n",
    "\n",
    "# Pivot for easier plotting\n",
    "pivot_table = avg_price.pivot_table(index=['NATURE OF ENT. PROCEDURE', 'CATEGORY'], \n",
    "                                    columns='SPECIALTY', \n",
    "                                    values='Price').reset_index()\n",
    "\n",
    "pivot_table"
   ]
  },
  {
   "cell_type": "code",
   "execution_count": null,
   "metadata": {},
   "outputs": [],
   "source": [
    "# Set plot style\n",
    "\n",
    "# Plot for each category within each NATURE OF ENT. PROCEDURE\n",
    "for (procedure, category_data) in pivot_table.groupby('NATURE OF ENT. PROCEDURE'):\n",
    "    plt.figure(figsize=(12, 6))\n",
    "    category_data.set_index('CATEGORY').drop(columns='NATURE OF ENT. PROCEDURE').plot(kind='bar', \n",
    "                                                                                      figsize=(14, 7),\n",
    "                                                                                      rot=45,\n",
    "                                                                                      title=f'Average Price by Specialty for {procedure}')\n",
    "    plt.ylabel('Average Price')\n",
    "    plt.xlabel('Category')\n",
    "    plt.legend(title='Specialty')\n",
    "    plt.tight_layout()\n",
    "    plt.show()"
   ]
  },
  {
   "cell_type": "markdown",
   "metadata": {},
   "source": [
    "#### Findings\n",
    "Different Specialities can incur higher prices for example breast imaging by fluoroscopy speciality is more expensive than computed tomography scan."
   ]
  }
 ],
 "metadata": {
  "kernelspec": {
   "display_name": "venv",
   "language": "python",
   "name": "python3"
  },
  "language_info": {
   "codemirror_mode": {
    "name": "ipython",
    "version": 3
   },
   "file_extension": ".py",
   "mimetype": "text/x-python",
   "name": "python",
   "nbconvert_exporter": "python",
   "pygments_lexer": "ipython3",
   "version": "3.10.12"
  }
 },
 "nbformat": 4,
 "nbformat_minor": 2
}
